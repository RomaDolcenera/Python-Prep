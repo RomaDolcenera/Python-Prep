{
 "cells": [
  {
   "attachments": {},
   "cell_type": "markdown",
   "metadata": {},
   "source": [
    "1) Crear la clase vehículo que contenga los atributos:\n",
    "<br>Color<br>Si es moto, auto, camioneta ó camión<br>\n",
    "Cilindrada del motor"
   ]
  },
  {
   "cell_type": "code",
   "execution_count": 26,
   "metadata": {},
   "outputs": [
    {
     "name": "stdout",
     "output_type": "stream",
     "text": [
      "azul\n",
      "auto\n",
      "600\n"
     ]
    }
   ],
   "source": [
    "class Vehiculo():\n",
    "    \n",
    "    def __init__(self, color, tipo, cilindrada):\n",
    "        self.color = color\n",
    "        self.tipo = tipo\n",
    "        self.cilindrada = cilindrada\n",
    "        \n",
    "toyota = Vehiculo('azul','auto','600')\n",
    "print(toyota.color)\n",
    "print(toyota.tipo)\n",
    "print(toyota.cilindrada)"
   ]
  },
  {
   "attachments": {},
   "cell_type": "markdown",
   "metadata": {},
   "source": [
    "2) A la clase Vehiculo creada en el punto 1, agregar los siguientes métodos:<br>\n",
    "Acelerar<br>\n",
    "Frenar<br>\n",
    "Doblar<br>"
   ]
  },
  {
   "cell_type": "code",
   "execution_count": 27,
   "metadata": {},
   "outputs": [],
   "source": [
    "class vehiculo:\n",
    "    \n",
    "    def __init__(self, color, tipo, cilindrada):\n",
    "        self.tipo = tipo\n",
    "        self.color = color\n",
    "        self.cilindrada = cilindrada\n",
    "        self.velocidad = 0\n",
    "        self.direccion = 0\n",
    "    \n",
    "    def acelerar(self, vel): \n",
    "        self.velocidad += vel\n",
    "    def frenar(self):\n",
    "        self.velocidad -= vel\n",
    "    def doblar(self): \n",
    "        self.direccion += grados  \n",
    "    \n"
   ]
  },
  {
   "attachments": {},
   "cell_type": "markdown",
   "metadata": {},
   "source": [
    "3) Instanciar 3 objetos de la clase vehículo y ejecutar sus métodos, probar luego el resultado"
   ]
  },
  {
   "cell_type": "code",
   "execution_count": 28,
   "metadata": {},
   "outputs": [],
   "source": [
    "v1 = Vehiculo ('Azul','Auto','1500')\n",
    "v2 = Vehiculo ('Rojo','Moto','150')\n",
    "v3 = Vehiculo ('Verde','camioneta','4000')"
   ]
  },
  {
   "attachments": {},
   "cell_type": "markdown",
   "metadata": {},
   "source": [
    "4) Agregar a la clase Vehiculo, un método que muestre su estado, es decir, a que velocidad se encuentra y su dirección. Y otro método que muestre color, tipo y cilindrada"
   ]
  },
  {
   "cell_type": "code",
   "execution_count": 29,
   "metadata": {},
   "outputs": [],
   "source": [
    "class Vehiculo:\n",
    "    def __init__(self, color, tipo, cilindrada):\n",
    "        self.color = color\n",
    "        self.tipo = tipo\n",
    "        self.cilindrada = cilindrada\n",
    "        self.velocidad = 0\n",
    "        self.direccion = 0\n",
    "\n",
    "    def Acelerar(self, vel):\n",
    "        self.velocidad += vel\n",
    "\n",
    "    def Frenar(self, vel):\n",
    "        self.velocidad -= vel\n",
    "    \n",
    "    def Doblar(self, grados):\n",
    "        self.direccion += grados\n",
    "\n",
    "    def Estado(self):\n",
    "        print('Velocidad:', self.velocidad, '- Dirección:', self.direccion)\n",
    "\n",
    "    def Detalle(self):\n",
    "        print('Soy', self.tipo, 'de color', self.color, 'y mi cilindrada es de', self.cilindrada, 'litros')"
   ]
  },
  {
   "attachments": {},
   "cell_type": "markdown",
   "metadata": {},
   "source": [
    "5) Crear una clase que permita utilizar las funciones creadas en la práctica del módulo 6<br>\n",
    "Verificar Primo<br>\n",
    "Valor modal<br>\n",
    "Conversión grados<br>\n",
    "Factorial<br>"
   ]
  },
  {
   "cell_type": "code",
   "execution_count": 30,
   "metadata": {},
   "outputs": [],
   "source": [
    "class tools:\n",
    "    def __init__(self)->None:\n",
    "        pass\n",
    "    def verificate_primo(self,nro):\n",
    "        es_primo = True\n",
    "        for i in range(2,nro):\n",
    "            if nro % i == 0:\n",
    "                es_primo = False\n",
    "                break\n",
    "        return es_primo\n",
    "\n",
    "    def valor_modal(self, lista, menor):\n",
    "        lista_unicos = []\n",
    "        lista_repeticiones =[] \n",
    "        if len(lista) == 0:\n",
    "            return None\n",
    "            if(menor):\n",
    "                lista.sort()\n",
    "            else:\n",
    "                lista.sort(reverse=True)\n",
    "            for element in lista:\n",
    "                if element in lista_unicos:\n",
    "                    i = lista_unicos.idex(element)\n",
    "                    lista_repeticiones[i]+=1\n",
    "                else:\n",
    "                    lista_unicos.append(element)\n",
    "                    lista_repeticiones.append(1)\n",
    "            moda = lista_unicos[0]\n",
    "            maximo = lista_repeticiones.append[0]\n",
    "            for i, element in enumarete(lista_unicos):\n",
    "                if lista_repeticiones[i] > maximo:\n",
    "                    moda = lista_unicos[i]\n",
    "                    maximo = lista_repeticiones[i]\n",
    "            return moda, maximo\n",
    "\n",
    "    def conversion_grados(self, valor, origen, destino):\n",
    "        valor_destino = None\n",
    "        if (origen == 'celsius'):\n",
    "            if (destino == 'celsius'):\n",
    "                valor_destino = valor\n",
    "            elif (destino == 'farenheit'):\n",
    "                valor_destino = (valor * 9 / 5) + 32\n",
    "            elif (destino == 'kelvin'):\n",
    "                valor_destino = valor + 273.15\n",
    "            else:\n",
    "                print('Parámetro de Destino incorrecto')\n",
    "        elif (origen == 'farenheit'):\n",
    "            if (destino == 'celsius'):\n",
    "                valor_destino = (valor - 32) * 5 / 9\n",
    "            elif (destino == 'farenheit'):\n",
    "                valor_destino = valor\n",
    "            elif (destino == 'kelvin'):\n",
    "                valor_destino = ((valor - 32) * 5 / 9) + 273.15\n",
    "            else:\n",
    "                print('Parámetro de Destino incorrecto')\n",
    "        elif (origen == 'kelvin'):\n",
    "            if (destino == 'celsius'):\n",
    "                valor_destino = valor - 273.15\n",
    "            elif (destino == 'farenheit'):\n",
    "                valor_destino = ((valor - 273.15) * 9 / 5) + 32\n",
    "            elif (destino == 'kelvin'):\n",
    "                valor_destino = valor\n",
    "            else:\n",
    "                print('Parámetro de Destino incorrecto')\n",
    "        else:\n",
    "            print('Parámetro de Origen incorrecto')\n",
    "        return valor_destino\n",
    "\n",
    "    def factorial(self, numero):\n",
    "        if(type(numero) != int):\n",
    "            return 'El numero debe ser un entero'\n",
    "        if(numero < 0):\n",
    "            return 'El numero debe ser pisitivo'\n",
    "        if (numero > 1):\n",
    "            numero = numero * self.factorial(numero - 1)\n",
    "        return numero"
   ]
  },
  {
   "cell_type": "code",
   "execution_count": 31,
   "metadata": {},
   "outputs": [],
   "source": [
    "h = tools()"
   ]
  },
  {
   "attachments": {},
   "cell_type": "markdown",
   "metadata": {},
   "source": [
    "6) Probar las funciones incorporadas en la clase del punto 5"
   ]
  },
  {
   "cell_type": "code",
   "execution_count": 32,
   "metadata": {},
   "outputs": [
    {
     "data": {
      "text/plain": [
       "True"
      ]
     },
     "execution_count": 32,
     "metadata": {},
     "output_type": "execute_result"
    }
   ],
   "source": [
    "h.verificate_primo(7)"
   ]
  },
  {
   "cell_type": "code",
   "execution_count": null,
   "metadata": {},
   "outputs": [],
   "source": []
  },
  {
   "cell_type": "code",
   "execution_count": 36,
   "metadata": {},
   "outputs": [
    {
     "data": {
      "text/plain": [
       "283.15"
      ]
     },
     "execution_count": 36,
     "metadata": {},
     "output_type": "execute_result"
    }
   ],
   "source": [
    "h.conversion_grados(10, 'celsius', 'kelvin')"
   ]
  },
  {
   "cell_type": "code",
   "execution_count": 37,
   "metadata": {},
   "outputs": [
    {
     "data": {
      "text/plain": [
       "120"
      ]
     },
     "execution_count": 37,
     "metadata": {},
     "output_type": "execute_result"
    }
   ],
   "source": [
    "h.factorial(5)"
   ]
  },
  {
   "attachments": {},
   "cell_type": "markdown",
   "metadata": {},
   "source": [
    "7) Es necesario que la clase creada en el punto 5 contenga una lista, sobre la cual se aplquen las funciones incorporadas"
   ]
  },
  {
   "cell_type": "markdown",
   "metadata": {},
   "source": []
  },
  {
   "attachments": {},
   "cell_type": "markdown",
   "metadata": {},
   "source": [
    "8) Crear un archivo .py aparte y ubicar allí la clase generada en el punto anterior. Luego realizar la importación del módulo y probar alguna de sus funciones\n"
   ]
  }
 ],
 "metadata": {
  "kernelspec": {
   "display_name": "Python 3",
   "language": "python",
   "name": "python3"
  },
  "language_info": {
   "codemirror_mode": {
    "name": "ipython",
    "version": 3
   },
   "file_extension": ".py",
   "mimetype": "text/x-python",
   "name": "python",
   "nbconvert_exporter": "python",
   "pygments_lexer": "ipython3",
   "version": "3.11.0 (main, Oct 24 2022, 18:26:48) [MSC v.1933 64 bit (AMD64)]"
  },
  "orig_nbformat": 4,
  "vscode": {
   "interpreter": {
    "hash": "c261aea317cc0286b3b3261fbba9abdec21eaa57589985bb7a274bf54d6cc0a7"
   }
  }
 },
 "nbformat": 4,
 "nbformat_minor": 2
}
